{
  "nbformat": 4,
  "nbformat_minor": 0,
  "metadata": {
    "colab": {
      "provenance": []
    },
    "kernelspec": {
      "name": "python3",
      "display_name": "Python 3"
    },
    "language_info": {
      "name": "python"
    }
  },
  "cells": [
    {
      "cell_type": "code",
      "execution_count": null,
      "metadata": {
        "id": "qoqM6fTopk1L"
      },
      "outputs": [],
      "source": [
        "n = int(input(\"enter the number of terms:\"))\n",
        "\n",
        "a,b= 0,1\n",
        "for i in range(n):\n",
        "  print(a,end=\" \")\n",
        "  a,b = b, a+b"
      ]
    }
  ]
}