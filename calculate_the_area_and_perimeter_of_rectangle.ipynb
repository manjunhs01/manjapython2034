{
  "nbformat": 4,
  "nbformat_minor": 0,
  "metadata": {
    "colab": {
      "provenance": []
    },
    "kernelspec": {
      "name": "python3",
      "display_name": "Python 3"
    },
    "language_info": {
      "name": "python"
    }
  },
  "cells": [
    {
      "cell_type": "code",
      "execution_count": null,
      "metadata": {
        "id": "mP3I-ihsH3Pa",
        "outputId": "a2326a00-8a9c-412a-8a07-6408e311e018",
        "colab": {
          "base_uri": "https://localhost:8080/"
        }
      },
      "outputs": [
        {
          "output_type": "stream",
          "name": "stdout",
          "text": [
            "Enter the length of the rectangle: 8\n",
            "Enter the width of the rectangle: 9\n",
            "Area 72.0\n",
            "Primeter: 34.0\n"
          ]
        }
      ],
      "source": [
        "length = float(input(\"Enter the length of the rectangle: \"))\n",
        "width = float(input(\"Enter the width of the rectangle: \"))\n",
        "area = length * width\n",
        "perimeter = 2 * (length + width)\n",
        "print(\"Area\",area)\n",
        "print(\"Primeter:\",perimeter)"
      ]
    }
  ]
}