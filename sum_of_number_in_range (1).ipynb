{
  "nbformat": 4,
  "nbformat_minor": 0,
  "metadata": {
    "colab": {
      "provenance": []
    },
    "kernelspec": {
      "name": "python3",
      "display_name": "Python 3"
    },
    "language_info": {
      "name": "python"
    }
  },
  "cells": [
    {
      "cell_type": "code",
      "execution_count": null,
      "metadata": {
        "id": "_Xtj7eL35VZw"
      },
      "outputs": [],
      "source": [
        "start = int(input(\"enter the starting number: \"))\n",
        "end = int(input(\"enter the ending number: \"))\n",
        "sum =0\n",
        "for i in range(start, end+1):\n",
        "  sum += i\n",
        "  print(\"the sum is:\", sum)"
      ]
    }
  ]
}