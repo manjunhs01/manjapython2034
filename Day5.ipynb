{
  "nbformat": 4,
  "nbformat_minor": 0,
  "metadata": {
    "colab": {
      "provenance": []
    },
    "kernelspec": {
      "name": "python3",
      "display_name": "Python 3"
    },
    "language_info": {
      "name": "python"
    }
  },
  "cells": [
    {
      "cell_type": "markdown",
      "source": [
        "# File Handling and Error handling in **python**"
      ],
      "metadata": {
        "id": "M8VqDy3BnFCa"
      }
    },
    {
      "cell_type": "markdown",
      "source": [
        "File operations"
      ],
      "metadata": {
        "id": "kNbuhQ5nnZc8"
      }
    },
    {
      "cell_type": "code",
      "source": [
        "#opening a File\n",
        "file = open(\"/content/manjunath.txt\", \"r\")"
      ],
      "metadata": {
        "id": "Tu0W2lVHwwbT"
      },
      "execution_count": null,
      "outputs": []
    },
    {
      "cell_type": "code",
      "source": [
        "file = open(\"/content/manjunath.txt\", \"w\")\n",
        "print(file.write(\"this a command\"))\n",
        "file.close()"
      ],
      "metadata": {
        "colab": {
          "base_uri": "https://localhost:8080/"
        },
        "id": "ts5RVVhQxEcE",
        "outputId": "b0c1361d-df88-4624-8cd8-cb0a0afb8186"
      },
      "execution_count": null,
      "outputs": [
        {
          "output_type": "stream",
          "name": "stdout",
          "text": [
            "14\n"
          ]
        }
      ]
    },
    {
      "cell_type": "code",
      "source": [
        "file = open(\"/content/manjunath.txt\", \"r\")\n",
        "conent = file.read()\n",
        "print(conent)\n",
        "file.close()"
      ],
      "metadata": {
        "colab": {
          "base_uri": "https://localhost:8080/"
        },
        "id": "lnhylRlAxiC7",
        "outputId": "778f4438-badd-48a4-8032-3ed86d5e6ba8"
      },
      "execution_count": null,
      "outputs": [
        {
          "output_type": "stream",
          "name": "stdout",
          "text": [
            "this a command\n"
          ]
        }
      ]
    },
    {
      "cell_type": "code",
      "source": [
        "#Writing to a file\n",
        "file = open(\"/content/manjunath.txt\", \"w\")\n",
        "print(file.write(\"jhfhf ihdfh jhkdfh hjskd\"))\n",
        "file.close()"
      ],
      "metadata": {
        "colab": {
          "base_uri": "https://localhost:8080/"
        },
        "id": "EWqDkt4syZIM",
        "outputId": "f088eed8-f040-4eb6-8d2f-d1a13fc23c2f"
      },
      "execution_count": null,
      "outputs": [
        {
          "output_type": "stream",
          "name": "stdout",
          "text": [
            "24\n"
          ]
        }
      ]
    },
    {
      "cell_type": "code",
      "source": [
        "#Appending to a File\n",
        "file = open(\"/content/manjunath.txt\", \"a\")\n",
        "print(file.write(\"ram is a good programmer.\\n\"))\n",
        "file.close()"
      ],
      "metadata": {
        "colab": {
          "base_uri": "https://localhost:8080/"
        },
        "id": "dtue797gy5nN",
        "outputId": "30258079-76f4-4db9-8402-72d57ff3f04d"
      },
      "execution_count": null,
      "outputs": [
        {
          "output_type": "stream",
          "name": "stdout",
          "text": [
            "26\n"
          ]
        }
      ]
    },
    {
      "cell_type": "code",
      "source": [
        "#using with statement\n",
        "with open(\"/content/manjunath.txt\", \"r\") as file:\n",
        "  content = file.read()\n",
        "  print(content)"
      ],
      "metadata": {
        "colab": {
          "base_uri": "https://localhost:8080/"
        },
        "id": "493ArdRQzhh8",
        "outputId": "b0af5941-40e0-46a6-e0ca-f20c05c46074"
      },
      "execution_count": null,
      "outputs": [
        {
          "output_type": "stream",
          "name": "stdout",
          "text": [
            "jhfhf ihdfh jhkdfh hjskdram is a good programmer.\n",
            "\n"
          ]
        }
      ]
    },
    {
      "cell_type": "code",
      "source": [
        "#file Handling Mods\n",
        "with open(\"/content/download.jpg\", \"rb\") as file:\n",
        "  data = file.read()\n"
      ],
      "metadata": {
        "id": "r1jvJcHLz07t"
      },
      "execution_count": null,
      "outputs": []
    },
    {
      "cell_type": "markdown",
      "source": [
        "# error **handling**"
      ],
      "metadata": {
        "id": "vf4yX1zI8b2E"
      }
    },
    {
      "cell_type": "code",
      "source": [
        "#Try Except Block\n",
        "try:\n",
        "  num = int(input(\"Enter a number:\"))\n",
        "  print(10/num)\n",
        "except ZeroDivisionError:\n",
        "  print(\"You cannot divide by zero.\")\n",
        "except ValueError:\n",
        "  print(\"Invalid input. Please enter a valid number.\")\n"
      ],
      "metadata": {
        "colab": {
          "base_uri": "https://localhost:8080/"
        },
        "id": "NeOdHKXd-EOe",
        "outputId": "9f6cb297-522d-4771-cf92-9270e086dd6a"
      },
      "execution_count": null,
      "outputs": [
        {
          "output_type": "stream",
          "name": "stdout",
          "text": [
            "Enter a number:0\n",
            "You cannot divide by zero.\n"
          ]
        }
      ]
    },
    {
      "cell_type": "code",
      "source": [
        "#Finally Block\n",
        "try:\n",
        "  file = open(\"example.text\",\"r\")\n",
        "except FileNotFoundError:\n",
        "  print(\"File not found.\")\n",
        "finally:\n",
        "  print(\"Execution complete.\")\n",
        "\n"
      ],
      "metadata": {
        "colab": {
          "base_uri": "https://localhost:8080/"
        },
        "id": "h4PYvzbV_AkN",
        "outputId": "ff29376a-42d2-48ce-9723-1f4199dfc95c"
      },
      "execution_count": null,
      "outputs": [
        {
          "output_type": "stream",
          "name": "stdout",
          "text": [
            "File not found.\n",
            "Execution complete.\n"
          ]
        }
      ]
    },
    {
      "cell_type": "code",
      "source": [
        "#Raising Exceptions\n",
        "def check_age(age):\n",
        "  if age < 18:\n",
        "    raise ValueError(\"Age must be 18 or older.\")\n",
        "    return True\n",
        "    try:\n",
        "      check_age(16)\n",
        "    except ValueError as e:\n",
        "      print(e)"
      ],
      "metadata": {
        "id": "jgKAprJH_7Dn"
      },
      "execution_count": null,
      "outputs": []
    },
    {
      "cell_type": "markdown",
      "source": [
        "Hands on practice"
      ],
      "metadata": {
        "id": "86MxkTF1BHhN"
      }
    },
    {
      "cell_type": "code",
      "source": [
        "#Reading and Writing to a File\n",
        "with open(\"/content/manjunath.txt\", \"w\") as file:\n",
        "  file.write(\"this is a my sample file\")"
      ],
      "metadata": {
        "id": "Ohkirhn_BUUV"
      },
      "execution_count": null,
      "outputs": []
    },
    {
      "cell_type": "code",
      "source": [
        "#Appending data to a File\n",
        "with open(\"/content/manjunath.txt\", \"a\") as file:\n",
        "  file.write(\"Let's Leran python./n\")"
      ],
      "metadata": {
        "id": "vzFJeueqE0xW",
        "colab": {
          "base_uri": "https://localhost:8080/"
        },
        "outputId": "cefde824-5160-4391-a6c7-d5c083aaa37f"
      },
      "execution_count": null,
      "outputs": [
        {
          "output_type": "stream",
          "name": "stdout",
          "text": [
            "Let's Leran python./n\n"
          ]
        }
      ]
    },
    {
      "cell_type": "code",
      "source": [
        "with open(\"/content/manjunath.txt\", \"r\") as file:\n",
        "    print(file.read())"
      ],
      "metadata": {
        "colab": {
          "base_uri": "https://localhost:8080/"
        },
        "id": "8uAsTLm0TvvJ",
        "outputId": "f141cf17-28ed-4b85-bed4-168be84c7f95"
      },
      "execution_count": null,
      "outputs": [
        {
          "output_type": "stream",
          "name": "stdout",
          "text": [
            "Let's Leran python./nLet's Leran python./n\n"
          ]
        }
      ]
    },
    {
      "cell_type": "code",
      "source": [
        "#Handling Division by Zero Error\n",
        "try:\n",
        "  num1 = int(input(\"Enter a numerator: \"))\n",
        "  num2 = int(input(\"Enter a denominator: \"))\n",
        "  result = num1 / num2\n",
        "  print(\"Result:\",result)\n",
        "except ZeroDivisionError:\n",
        "    print(\"Cannot divide by zero.\")\n",
        "except ValueError:\n",
        "    print(\"Invalid input! Enter numeric values.\")"
      ],
      "metadata": {
        "colab": {
          "base_uri": "https://localhost:8080/"
        },
        "id": "6HwlRTqcT1jE",
        "outputId": "bb7a1010-59f3-4f2c-fdce-12a49b9c8373"
      },
      "execution_count": null,
      "outputs": [
        {
          "output_type": "stream",
          "name": "stdout",
          "text": [
            "Enter a numerator: 5\n",
            "Enter a denominator: 5\n",
            "Result: 1.0\n"
          ]
        }
      ]
    },
    {
      "cell_type": "markdown",
      "source": [
        "# Problem ***solving***"
      ],
      "metadata": {
        "id": "QTsQtz8sXQkg"
      }
    },
    {
      "cell_type": "code",
      "source": [
        "#Create and Write to a File\n",
        "with open(\"/content/manjunath.txt\", \"w\") as file:\n",
        "    file.write(\"Hello, World!\")\n"
      ],
      "metadata": {
        "id": "jSIeIH_JXWYY"
      },
      "execution_count": 6,
      "outputs": []
    },
    {
      "cell_type": "code",
      "source": [
        "#Read from a File\n",
        "with open(\"/content/manjunath.txt\", \"r\") as file:\n",
        "    content = file.read()\n",
        "    print(content)\n"
      ],
      "metadata": {
        "colab": {
          "base_uri": "https://localhost:8080/"
        },
        "id": "LqLcR9DhZdVI",
        "outputId": "5afdb22c-3fab-4e07-b312-e625a20d9b95"
      },
      "execution_count": 7,
      "outputs": [
        {
          "output_type": "stream",
          "name": "stdout",
          "text": [
            "Hello, World!\n"
          ]
        }
      ]
    },
    {
      "cell_type": "code",
      "source": [
        "#Append to a File\n",
        "with open(\"/content/manjunath.txt\", \"a\") as file:\n",
        "    file.write(\"\\nWelcome to Python programming!\")\n"
      ],
      "metadata": {
        "id": "CZ9K7nnpZs5V"
      },
      "execution_count": 8,
      "outputs": []
    },
    {
      "cell_type": "code",
      "source": [],
      "metadata": {
        "id": "A74afOQZbsEY"
      },
      "execution_count": null,
      "outputs": []
    },
    {
      "cell_type": "code",
      "execution_count": 9,
      "metadata": {
        "colab": {
          "base_uri": "https://localhost:8080/"
        },
        "id": "HGIOZ4V9aECw",
        "outputId": "79186a9b-52c5-4edd-ad02-c5992649d45c"
      },
      "outputs": [
        {
          "output_type": "stream",
          "name": "stdout",
          "text": [
            "the random number is: 3\n"
          ]
        }
      ],
      "source": [
        "#Generate a random number between 1 and 2\n",
        "import random\n",
        "random_number = random.randint(1,6)\n",
        "print(\"the random number is:\",random_number)"
      ]
    },
    {
      "source": [
        "#Count Lines in a File\n",
        "try:\n",
        "  with open(\"/content/manjunath.txt\", \"r\") as file:\n",
        "    lines = file.readlines()\n",
        "    print(f\"Number of lines: {len(lines)}\")\n",
        "except FileNotFoundError:\n",
        "  print(\"The file '/content/manjunath.txt' was not found in the current directory.\")\n",
        "  print(\"Please make sure the file exists and the path is correct.\")"
      ],
      "cell_type": "code",
      "metadata": {
        "colab": {
          "base_uri": "https://localhost:8080/"
        },
        "id": "itZn2sRib469",
        "outputId": "c198550b-983a-4f69-b334-ef4511de979a"
      },
      "execution_count": 15,
      "outputs": [
        {
          "output_type": "stream",
          "name": "stdout",
          "text": [
            "Number of lines: 2\n"
          ]
        }
      ]
    },
    {
      "cell_type": "code",
      "source": [
        "#Count Words in a File\n",
        "with open(\"/content/manjunath.txt\", \"r\") as file:\n",
        "    words = file.read().split()\n",
        "    print(f\"Number of words: {len(words)}\")\n",
        "\n"
      ],
      "metadata": {
        "colab": {
          "base_uri": "https://localhost:8080/"
        },
        "id": "En79YuTLcBc2",
        "outputId": "67b0efde-a20c-40a9-e96a-d315589963a4"
      },
      "execution_count": 14,
      "outputs": [
        {
          "output_type": "stream",
          "name": "stdout",
          "text": [
            "Number of words: 6\n"
          ]
        }
      ]
    },
    {
      "cell_type": "code",
      "source": [
        "#Copy File Contents\n",
        "with open(\"/content/manjunath.txt\", \"r\") as source, open(\"/content/manjunath.txt\", \"w\") as destination:\n",
        "    destination.write(source.read())\n"
      ],
      "metadata": {
        "id": "ciXKmPy6cce3"
      },
      "execution_count": 16,
      "outputs": []
    },
    {
      "cell_type": "code",
      "source": [
        "#Check if File Exists\n",
        "import os\n",
        "if os.path.exists(\"/content/manjunath.txt\"):\n",
        "    print(\"File exists\")\n",
        "else:\n",
        "    print(\"File does not exist\")\n"
      ],
      "metadata": {
        "colab": {
          "base_uri": "https://localhost:8080/"
        },
        "id": "i4vvHMvbcq2e",
        "outputId": "e99f5c9d-e7a3-4d2b-d4d2-d325d4237ae9"
      },
      "execution_count": 17,
      "outputs": [
        {
          "output_type": "stream",
          "name": "stdout",
          "text": [
            "File exists\n"
          ]
        }
      ]
    },
    {
      "cell_type": "code",
      "source": [
        "#Read File Line by Line\n",
        "with open(\"/content/manjunath.txt\", \"r\") as file:\n",
        "    for line in file:\n",
        "        print(line.strip())\n"
      ],
      "metadata": {
        "id": "dp5atIoOc7uF"
      },
      "execution_count": 18,
      "outputs": []
    },
    {
      "cell_type": "code",
      "source": [
        "#Search for a Word in a File\n",
        "with open(\"/content/manjunath.txt\", \"r\") as file:\n",
        "    for i, line in enumerate(file, 1):\n",
        "        if \"Python\" in line:\n",
        "            print(f\"Found on line {i}: {line.strip()}\")\n"
      ],
      "metadata": {
        "id": "YAKOBEaUdIRN"
      },
      "execution_count": 21,
      "outputs": []
    },
    {
      "cell_type": "code",
      "source": [
        "#Write a List to a File\n",
        "numbers = [1, 2, 3, 4, 5]\n",
        "with open(\"/content/manjunath.txt\", \"w\") as file:\n",
        "    file.write(\"\\n\".join(map(str, numbers)))\n"
      ],
      "metadata": {
        "id": "-EInuPgEdgPO"
      },
      "execution_count": 26,
      "outputs": []
    },
    {
      "cell_type": "code",
      "source": [
        "#Reverse File Contents\n",
        "with open(\"/content/manjunath.txt\", \"r\") as file:\n",
        "    content = file.read()\n",
        "with open(\"/content/manjunath.txt\", \"w\") as file:\n",
        "    file.write(content[::-1])\n",
        "\n"
      ],
      "metadata": {
        "id": "Hu8HpRGSeCKf"
      },
      "execution_count": 27,
      "outputs": []
    },
    {
      "cell_type": "code",
      "source": [
        "#File Statistics\n",
        "with open(\"/content/manjunath.txt\", \"r\") as file:\n",
        "    content = file.read()\n",
        "    lines = content.splitlines()\n",
        "    words = content.split()\n",
        "    characters = len(content)\n",
        "    print(f\"Characters: {characters}, Words: {len(words)}, Lines: {len(lines)}\")\n"
      ],
      "metadata": {
        "colab": {
          "base_uri": "https://localhost:8080/"
        },
        "id": "tZuUEK5vecnG",
        "outputId": "c56c4cd5-1894-447b-e536-0ae5572e42cf"
      },
      "execution_count": 28,
      "outputs": [
        {
          "output_type": "stream",
          "name": "stdout",
          "text": [
            "Characters: 9, Words: 5, Lines: 5\n"
          ]
        }
      ]
    },
    {
      "cell_type": "code",
      "source": [
        "#Merge Two Files\n",
        "with open(\"/content/manjunath.txt\", \"r\") as file1, open(\"/content/manjunath.txt\", \"r\") as file2, open(\"/content/manjunath.txt\", \"w\") as merged:\n",
        "    merged.write(file1.read() + \"\\n\" + file2.read())\n"
      ],
      "metadata": {
        "id": "kxD_YeXseri3"
      },
      "execution_count": 30,
      "outputs": []
    },
    {
      "cell_type": "code",
      "source": [
        "#Count Occurrences of a Word\n",
        "with open(\"/content/manjunath.txt\", \"r\") as file:\n",
        "    content = file.read()\n",
        "    count = content.count(\"Python\")\n",
        "    print(f\"'Python' appears {count} times\")\n"
      ],
      "metadata": {
        "colab": {
          "base_uri": "https://localhost:8080/"
        },
        "id": "logF3-y-fC5u",
        "outputId": "c5b806ed-1594-42f9-b133-ea11aa8d99c4"
      },
      "execution_count": 32,
      "outputs": [
        {
          "output_type": "stream",
          "name": "stdout",
          "text": [
            "'Python' appears 0 times\n"
          ]
        }
      ]
    },
    {
      "cell_type": "code",
      "source": [
        "#Remove a Word from a File\n",
        "with open(\"/content/manjunath.txt\", \"r\") as file:\n",
        "    content = file.read().replace(\"Hello\", \"\")\n",
        "with open(\"data.txt\", \"w\") as file:\n",
        "    file.write(content)\n",
        "\n",
        "\n",
        "\n"
      ],
      "metadata": {
        "id": "EMM5qdT-fd7-"
      },
      "execution_count": 34,
      "outputs": []
    },
    {
      "cell_type": "code",
      "source": [
        "#File Encryption\n",
        "with open(\"data.txt\", \"r\") as file:\n",
        "    content = file.read()\n",
        "encrypted = ''.join(chr(ord(c) + 2) for c in content)\n",
        "with open(\"encrypted.txt\", \"w\") as file:\n",
        "    file.write(encrypted)\n"
      ],
      "metadata": {
        "id": "Q3P0fjGCft0O"
      },
      "execution_count": 35,
      "outputs": []
    },
    {
      "cell_type": "code",
      "source": [
        "#File Decryption\n",
        "with open(\"encrypted.txt\", \"r\") as file:\n",
        "    encrypted_content = file.read()\n",
        "decrypted = ''.join(chr(ord(c) - 2) for c in encrypted_content)\n",
        "print(decrypted)\n"
      ],
      "metadata": {
        "colab": {
          "base_uri": "https://localhost:8080/"
        },
        "id": "x2oPHCaEf5I2",
        "outputId": "591e8352-d2bd-4562-a6ce-94c8e27cef60"
      },
      "execution_count": 36,
      "outputs": [
        {
          "output_type": "stream",
          "name": "stdout",
          "text": [
            "\n",
            "\n"
          ]
        }
      ]
    },
    {
      "cell_type": "code",
      "source": [
        "#Remove Blank Lines\n",
        "with open(\"data.txt\", \"r\") as file:\n",
        "    lines = [line for line in file if line.strip()]\n",
        "with open(\"data.txt\", \"w\") as file:\n",
        "    file.writelines(lines)\n"
      ],
      "metadata": {
        "id": "bEHCTbvWf-uv"
      },
      "execution_count": 37,
      "outputs": []
    },
    {
      "source": [
        "#Find Longest Word in a File\n",
        "with open(\"/content/manjunath.txt\", \"r\") as file:\n",
        "    words = file.read().split()\n",
        "\n",
        "if words:\n",
        "    longest_word = max(words, key=len)\n",
        "    print(f\"The longest word is: {longest_word}\")\n",
        "else:\n",
        "    print(\"The file is empty or contains no words.\")"
      ],
      "cell_type": "code",
      "metadata": {
        "colab": {
          "base_uri": "https://localhost:8080/"
        },
        "id": "nhUr1e2jggpF",
        "outputId": "6e98fd83-4c49-422e-eb62-cc7aa880abc5"
      },
      "execution_count": 40,
      "outputs": [
        {
          "output_type": "stream",
          "name": "stdout",
          "text": [
            "The file is empty or contains no words.\n"
          ]
        }
      ]
    },
    {
      "cell_type": "code",
      "source": [
        "#Word Frequency Analysis\n",
        "from collections import Counter\n",
        "with open(\"data.txt\", \"r\") as file:\n",
        "    words = file.read().split()\n",
        "frequency = Counter(words)\n",
        "print(frequency)\n"
      ],
      "metadata": {
        "colab": {
          "base_uri": "https://localhost:8080/"
        },
        "id": "ooCqRD1xgtW3",
        "outputId": "f45f2e7c-4d08-491f-b848-a3f1158c97c7"
      },
      "execution_count": 41,
      "outputs": [
        {
          "output_type": "stream",
          "name": "stdout",
          "text": [
            "Counter()\n"
          ]
        }
      ]
    },
    {
      "cell_type": "markdown",
      "source": [
        "Error Handling **problems**"
      ],
      "metadata": {
        "id": "h3tuIUCwg5OY"
      }
    },
    {
      "cell_type": "code",
      "source": [
        "#Handle File Not Found Error\n",
        "try:\n",
        "    with open(\"data.txt\", \"r\") as file:\n",
        "        print(file.read())\n",
        "except FileNotFoundError:\n",
        "    print(\"File not found\")\n"
      ],
      "metadata": {
        "colab": {
          "base_uri": "https://localhost:8080/"
        },
        "id": "tDQma4nSg0KI",
        "outputId": "49d7db12-e465-41b6-f4f5-1f3b3645425f"
      },
      "execution_count": 42,
      "outputs": [
        {
          "output_type": "stream",
          "name": "stdout",
          "text": [
            "\n"
          ]
        }
      ]
    },
    {
      "cell_type": "code",
      "source": [
        "#Handle Division by Zero\n",
        "try:\n",
        "    a = int(input(\"Enter numerator: \"))\n",
        "    b = int(input(\"Enter denominator: \"))\n",
        "    print(a / b)\n",
        "except ZeroDivisionError:\n",
        "    print(\"Cannot divide by zero\")\n"
      ],
      "metadata": {
        "colab": {
          "base_uri": "https://localhost:8080/"
        },
        "id": "0X06y7E7hMSm",
        "outputId": "017ca9e7-3a90-4ada-f6cc-fb7fc228cb6b"
      },
      "execution_count": 43,
      "outputs": [
        {
          "output_type": "stream",
          "name": "stdout",
          "text": [
            "Enter numerator: 56\n",
            "Enter denominator: 56\n",
            "1.0\n"
          ]
        }
      ]
    },
    {
      "cell_type": "code",
      "source": [
        "#Invalid Input Handling\n",
        "try:\n",
        "    num = int(input(\"Enter an integer: \"))\n",
        "    print(f\"You entered: {num}\")\n",
        "except ValueError:\n",
        "    print(\"Invalid input. Please enter an integer.\")\n"
      ],
      "metadata": {
        "colab": {
          "base_uri": "https://localhost:8080/"
        },
        "id": "Nk7E6AM1h-TX",
        "outputId": "28557671-b072-48d5-ba5c-d7c421520082"
      },
      "execution_count": 44,
      "outputs": [
        {
          "output_type": "stream",
          "name": "stdout",
          "text": [
            "Enter an integer: 56\n",
            "You entered: 56\n"
          ]
        }
      ]
    },
    {
      "cell_type": "code",
      "source": [
        "#Handle Key Error\n",
        "\n",
        "my_dict = {\"a\": 1, \"b\": 2}\n",
        "try:\n",
        "    print(my_dict[\"c\"])\n",
        "except KeyError:\n",
        "    print(\"Key not found\")\n",
        "\n"
      ],
      "metadata": {
        "colab": {
          "base_uri": "https://localhost:8080/"
        },
        "id": "0n6tKj28iTKp",
        "outputId": "87293ad0-e38b-4309-a970-83cb36a43431"
      },
      "execution_count": 45,
      "outputs": [
        {
          "output_type": "stream",
          "name": "stdout",
          "text": [
            "Key not found\n"
          ]
        }
      ]
    },
    {
      "cell_type": "code",
      "source": [
        "#File Read Permission\n",
        "try:\n",
        "    with open(\"data.txt\", \"r\") as file:\n",
        "        print(file.read())\n",
        "except PermissionError:\n",
        "    print(\"Permission denied\")\n"
      ],
      "metadata": {
        "colab": {
          "base_uri": "https://localhost:8080/"
        },
        "id": "_Iy5NtGPibQ-",
        "outputId": "5b1caa11-0461-4933-8bf8-8af719d7f196"
      },
      "execution_count": 46,
      "outputs": [
        {
          "output_type": "stream",
          "name": "stdout",
          "text": [
            "\n"
          ]
        }
      ]
    },
    {
      "cell_type": "code",
      "source": [
        "#Catch Multiple Exceptions\n",
        "try:\n",
        "    with open(\"data.txt\", \"r\") as file:\n",
        "        print(file.read())\n",
        "except (FileNotFoundError, PermissionError) as e:\n",
        "    print(f\"Error: {e}\")\n"
      ],
      "metadata": {
        "colab": {
          "base_uri": "https://localhost:8080/"
        },
        "id": "wFvCsLA4ij2_",
        "outputId": "3e82c3e7-7c82-44bf-ebc6-64099303ad31"
      },
      "execution_count": 47,
      "outputs": [
        {
          "output_type": "stream",
          "name": "stdout",
          "text": [
            "\n"
          ]
        }
      ]
    },
    {
      "cell_type": "code",
      "source": [
        "#Custom Exception\n",
        "class NegativeNumberError(Exception):\n",
        "    pass\n",
        "\n",
        "num = int(input(\"Enter a number: \"))\n",
        "if num < 0:\n",
        "    raise NegativeNumberError(\"Negative numbers are not allowed\")\n"
      ],
      "metadata": {
        "colab": {
          "base_uri": "https://localhost:8080/"
        },
        "id": "7DhCLMt4iv1X",
        "outputId": "bbdfe88c-7424-4e15-ef5d-d62c3c68d24a"
      },
      "execution_count": 48,
      "outputs": [
        {
          "name": "stdout",
          "output_type": "stream",
          "text": [
            "Enter a number: 56\n"
          ]
        }
      ]
    },
    {
      "cell_type": "code",
      "source": [
        "#Handle IndexError\n",
        "my_list = [1, 2, 3]\n",
        "try:\n",
        "    print(my_list[5])\n",
        "except IndexError:\n",
        "    print(\"Index out of range\")\n"
      ],
      "metadata": {
        "colab": {
          "base_uri": "https://localhost:8080/"
        },
        "id": "Oc99wDa_i7Hn",
        "outputId": "de7b8280-e5dc-492c-b8c5-763f48270edb"
      },
      "execution_count": 49,
      "outputs": [
        {
          "output_type": "stream",
          "name": "stdout",
          "text": [
            "Index out of range\n"
          ]
        }
      ]
    },
    {
      "cell_type": "code",
      "source": [
        "#Nested Exception Handling\n",
        "try:\n",
        "    try:\n",
        "        num = int(\"abc\")\n",
        "    except ValueError:\n",
        "        print(\"Inner: Invalid value\")\n",
        "    print(1 / 0)\n",
        "except ZeroDivisionError:\n",
        "    print(\"Outer: Division by zero\")\n"
      ],
      "metadata": {
        "colab": {
          "base_uri": "https://localhost:8080/"
        },
        "id": "aSCfwLXVjGLH",
        "outputId": "526cfcf2-71f5-48b4-f7df-fbb8f6f6b210"
      },
      "execution_count": 50,
      "outputs": [
        {
          "output_type": "stream",
          "name": "stdout",
          "text": [
            "Inner: Invalid value\n",
            "Outer: Division by zero\n"
          ]
        }
      ]
    },
    {
      "cell_type": "code",
      "source": [
        "#Resource Cleanup with finally\n",
        "try:\n",
        "    file = open(\"data.txt\", \"r\")\n",
        "    print(file.read())\n",
        "finally:\n",
        "    file.close()\n",
        "    print(\"File closed\")\n"
      ],
      "metadata": {
        "colab": {
          "base_uri": "https://localhost:8080/"
        },
        "id": "giYOTaQUjQfP",
        "outputId": "a079a6f9-118a-4f51-aa1c-42f9b5d08098"
      },
      "execution_count": 51,
      "outputs": [
        {
          "output_type": "stream",
          "name": "stdout",
          "text": [
            "\n",
            "File closed\n"
          ]
        }
      ]
    }
  ]
}