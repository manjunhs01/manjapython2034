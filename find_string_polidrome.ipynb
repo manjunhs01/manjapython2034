{
  "nbformat": 4,
  "nbformat_minor": 0,
  "metadata": {
    "colab": {
      "provenance": []
    },
    "kernelspec": {
      "name": "python3",
      "display_name": "Python 3"
    },
    "language_info": {
      "name": "python"
    }
  },
  "cells": [
    {
      "cell_type": "code",
      "execution_count": null,
      "metadata": {
        "id": "xvHykytM7rJs"
      },
      "outputs": [],
      "source": [
        "#polindrome\n",
        "number = input(\"Enter a number: \")\n",
        "if number == number[::-1]:\n",
        "  print(f\"{number} is a  polindrone\")\n",
        "else:\n",
        "  print(f\"{number} is not a polindrome\")"
      ]
    }
  ]
}