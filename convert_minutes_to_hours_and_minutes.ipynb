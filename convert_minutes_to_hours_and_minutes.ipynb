{
  "nbformat": 4,
  "nbformat_minor": 0,
  "metadata": {
    "colab": {
      "provenance": []
    },
    "kernelspec": {
      "name": "python3",
      "display_name": "Python 3"
    },
    "language_info": {
      "name": "python"
    }
  },
  "cells": [
    {
      "cell_type": "code",
      "execution_count": null,
      "metadata": {
        "id": "I_jW_l0AKJD5"
      },
      "outputs": [],
      "source": []
    },
    {
      "source": [
        "\n",
        "\n",
        "\n",
        "\n",
        "\n",
        "\n",
        "\n",
        "minutes = int(input(\"Enter the number of minutes: \"))\n",
        "\n",
        "hours = minutes // 60  # Get the number of whole hours\n",
        "remaining_minutes = minutes % 60  # Get the remaining minutes\n",
        "\n",
        "print(f\"{minutes} minutes is equal to {hours} hours and {remaining_minutes} minutes.\")"
      ],
      "cell_type": "code",
      "metadata": {
        "colab": {
          "base_uri": "https://localhost:8080/"
        },
        "id": "x1nG6fFXLBdu",
        "outputId": "51b3cbcf-b889-4cc0-ba5b-7b74470b269e"
      },
      "execution_count": 2,
      "outputs": [
        {
          "output_type": "stream",
          "name": "stdout",
          "text": [
            "Enter the number of minutes: 34\n",
            "34 minutes is equal to 0 hours and 34 minutes.\n"
          ]
        }
      ]
    },
    {
      "source": [
        "a = int(input(\"enter minutes\"))\n",
        "hour = a/60\n",
        "minue = a%60\n",
        "# Either define 'c' before using it:\n",
        "c = 0  # Assign a value to 'c'\n",
        "print(hour, minue, c)\n",
        "# or remove it from print statement if not needed\n",
        "#print(hour,minue)"
      ],
      "cell_type": "code",
      "metadata": {
        "colab": {
          "base_uri": "https://localhost:8080/"
        },
        "id": "GrpUszI7MLh-",
        "outputId": "4d9ff865-8344-49e6-86e2-18726be623e9"
      },
      "execution_count": 6,
      "outputs": [
        {
          "output_type": "stream",
          "name": "stdout",
          "text": [
            "enter minutes98\n",
            "1.6333333333333333 38 0\n"
          ]
        }
      ]
    },
    {
      "cell_type": "code",
      "source": [
        "a = int(input(\"enter minutes\"))\n",
        "hour = a/60\n",
        "minue = a%60\n",
        "# Either define 'c' before using it:\n",
        "c = 0  # Assign a value to 'c'\n",
        "print(hour, minue, c)"
      ],
      "metadata": {
        "colab": {
          "base_uri": "https://localhost:8080/"
        },
        "id": "AeCLpHOhMSC-",
        "outputId": "fdea8fb3-7a88-4844-8a99-5a8551165a17"
      },
      "execution_count": 7,
      "outputs": [
        {
          "output_type": "stream",
          "name": "stdout",
          "text": [
            "enter minutes65\n",
            "1.0833333333333333 5 0\n"
          ]
        }
      ]
    }
  ]
}