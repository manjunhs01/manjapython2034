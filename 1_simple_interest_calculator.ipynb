{
  "nbformat": 4,
  "nbformat_minor": 0,
  "metadata": {
    "colab": {
      "provenance": []
    },
    "kernelspec": {
      "name": "python3",
      "display_name": "Python 3"
    },
    "language_info": {
      "name": "python"
    }
  },
  "cells": [
    {
      "cell_type": "code",
      "source": [
        "p = float(input(\"principle amount\"))\n",
        "n = float(input(\"number of years\"))\n",
        "r = float(input(\"rate of interest\"))\n",
        "si = (p*n*r)/100\n",
        "print(si)"
      ],
      "metadata": {
        "colab": {
          "base_uri": "https://localhost:8080/"
        },
        "id": "JektH1MhFpfB",
        "outputId": "ca6d52c1-078b-42e7-8806-592c777363f2"
      },
      "execution_count": 2,
      "outputs": [
        {
          "output_type": "stream",
          "name": "stdout",
          "text": [
            "principle amount10009\n",
            "number of years7\n",
            "rate of interest74666666666666\n",
            "5.23137066666662e+16\n"
          ]
        }
      ]
    }
  ]
}