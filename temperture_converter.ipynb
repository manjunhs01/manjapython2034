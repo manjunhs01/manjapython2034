{
  "nbformat": 4,
  "nbformat_minor": 0,
  "metadata": {
    "colab": {
      "provenance": []
    },
    "kernelspec": {
      "name": "python3",
      "display_name": "Python 3"
    },
    "language_info": {
      "name": "python"
    }
  },
  "cells": [
    {
      "cell_type": "code",
      "execution_count": null,
      "metadata": {
        "colab": {
          "base_uri": "https://localhost:8080/"
        },
        "id": "0pEj-ePNCm0h",
        "outputId": "a6eb53e3-5906-4803-85d3-e1b7c6b2ea54"
      },
      "outputs": [
        {
          "output_type": "stream",
          "name": "stdout",
          "text": [
            "enter temperature in celsius: 46\n",
            "Temperature in fahrenheit: 114.8\n"
          ]
        }
      ],
      "source": [
        "celsius = float(input(\"enter temperature in celsius: \"))\n",
        "fahrenheit = (celsius * 9/5) + 32\n",
        "print(\"Temperature in fahrenheit:\", fahrenheit)"
      ]
    }
  ]
}