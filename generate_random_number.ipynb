{
  "nbformat": 4,
  "nbformat_minor": 0,
  "metadata": {
    "colab": {
      "provenance": []
    },
    "kernelspec": {
      "name": "python3",
      "display_name": "Python 3"
    },
    "language_info": {
      "name": "python"
    }
  },
  "cells": [
    {
      "cell_type": "code",
      "execution_count": 5,
      "metadata": {
        "colab": {
          "base_uri": "https://localhost:8080/"
        },
        "id": "HGIOZ4V9aECw",
        "outputId": "155f79a0-716d-4448-bac5-9ccf95e21094"
      },
      "outputs": [
        {
          "output_type": "stream",
          "name": "stdout",
          "text": [
            "the random number is: 3\n"
          ]
        }
      ],
      "source": [
        "#Generate a random number between 1 and 2\n",
        "import random\n",
        "random_number = random.randint(1,6)\n",
        "print(\"the random number is:\",random_number)"
      ]
    }
  ]
}