{
  "nbformat": 4,
  "nbformat_minor": 0,
  "metadata": {
    "colab": {
      "provenance": []
    },
    "kernelspec": {
      "name": "python3",
      "display_name": "Python 3"
    },
    "language_info": {
      "name": "python"
    }
  },
  "cells": [
    {
      "cell_type": "code",
      "execution_count": null,
      "metadata": {
        "id": "MLr_3jYdpR9w"
      },
      "outputs": [],
      "source": [
        "start = int(input(\"enter the starting number: \"))\n",
        "end = int(input(\"enter the ending number: \"))\n",
        "sum =0\n",
        "for i in range(start, end+1):\n",
        "  sum += i\n",
        "  print(\"the sum is:\", sum)"
      ]
    }
  ]
}