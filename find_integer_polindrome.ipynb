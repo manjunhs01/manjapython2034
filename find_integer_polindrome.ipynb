{
  "nbformat": 4,
  "nbformat_minor": 0,
  "metadata": {
    "colab": {
      "provenance": []
    },
    "kernelspec": {
      "name": "python3",
      "display_name": "Python 3"
    },
    "language_info": {
      "name": "python"
    }
  },
  "cells": [
    {
      "cell_type": "code",
      "execution_count": null,
      "metadata": {
        "id": "DO9IImVU8A4b"
      },
      "outputs": [],
      "source": [
        "number = int(input(\"Enter a number:\"))\n",
        "reverse_number = 0\n",
        "temp = number\n",
        "\n",
        "while temp > 0:\n",
        "  digit = temp % 10\n",
        "  reverse_number = reverse_number * 10 + digit\n",
        "  temp //= 10\n",
        "\n",
        "if number == reverse_number:\n",
        "  print(f\"{number} is a polindrome\")\n",
        "else:\n",
        "  print(f\"{number} is not a polindrome\")"
      ]
    }
  ]
}