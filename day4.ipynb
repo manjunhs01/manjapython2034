{
  "nbformat": 4,
  "nbformat_minor": 0,
  "metadata": {
    "colab": {
      "provenance": []
    },
    "kernelspec": {
      "name": "python3",
      "display_name": "Python 3"
    },
    "language_info": {
      "name": "python"
    }
  },
  "cells": [
    {
      "cell_type": "markdown",
      "source": [
        "data structures in python"
      ],
      "metadata": {
        "id": "fkFsSfudKxgL"
      }
    },
    {
      "cell_type": "code",
      "source": [
        "#Creating list with same data type\n",
        "a = [1,2,3,4,5,6,7,8,9,10]\n",
        "print(a)"
      ],
      "metadata": {
        "colab": {
          "base_uri": "https://localhost:8080/"
        },
        "id": "Av5VaB71K7Ej",
        "outputId": "516f3f3a-0757-41c2-95f9-1bd31a02ae0f"
      },
      "execution_count": null,
      "outputs": [
        {
          "output_type": "stream",
          "name": "stdout",
          "text": [
            "[1, 2, 3, 4, 5, 6, 7, 8, 9, 10]\n"
          ]
        }
      ]
    },
    {
      "cell_type": "code",
      "source": [],
      "metadata": {
        "id": "Nj1zL5sSd0zH"
      },
      "execution_count": null,
      "outputs": []
    },
    {
      "cell_type": "code",
      "source": [
        "#creating list with differat data type\n",
        "b = [1,2.5,'manju']\n",
        "print(b)"
      ],
      "metadata": {
        "colab": {
          "base_uri": "https://localhost:8080/"
        },
        "id": "poZbzdfKL_YQ",
        "outputId": "6b1c0282-4b58-44e5-885d-e668e2e53907"
      },
      "execution_count": null,
      "outputs": [
        {
          "output_type": "stream",
          "name": "stdout",
          "text": [
            "[1, 2.5, 'manju']\n"
          ]
        }
      ]
    },
    {
      "cell_type": "markdown",
      "source": [
        "# **list operations**\n",
        "\n",
        "\"Accessing Items\""
      ],
      "metadata": {
        "id": "QUKm9jD0M2jP"
      }
    },
    {
      "cell_type": "code",
      "source": [
        "print(a[8])\n",
        "print(b[-1])"
      ],
      "metadata": {
        "colab": {
          "base_uri": "https://localhost:8080/"
        },
        "id": "UlnxVRAwM_LH",
        "outputId": "27111819-b384-4f94-e8c8-b74356aafabf"
      },
      "execution_count": null,
      "outputs": [
        {
          "output_type": "stream",
          "name": "stdout",
          "text": [
            "10\n",
            "manju\n"
          ]
        }
      ]
    },
    {
      "cell_type": "markdown",
      "source": [
        "modifying **Items**"
      ],
      "metadata": {
        "id": "X7D_EtLEOGiV"
      }
    },
    {
      "cell_type": "code",
      "source": [
        "a[3]=12\n",
        "print(a)"
      ],
      "metadata": {
        "id": "kAJvDWE-ODu0",
        "colab": {
          "base_uri": "https://localhost:8080/"
        },
        "outputId": "f410f0e0-1443-4556-9604-ab9ead710e31"
      },
      "execution_count": null,
      "outputs": [
        {
          "output_type": "stream",
          "name": "stdout",
          "text": [
            "[1, 2, 3, 12, 5, 6, 7, 8, 9, 10]\n"
          ]
        }
      ]
    },
    {
      "cell_type": "code",
      "source": [
        "b[2] = 'manju'\n",
        "print(b)"
      ],
      "metadata": {
        "colab": {
          "base_uri": "https://localhost:8080/"
        },
        "id": "ZvrZNDZYaGal",
        "outputId": "bbf52afc-3c0d-4412-e853-0491f608215a"
      },
      "execution_count": null,
      "outputs": [
        {
          "output_type": "stream",
          "name": "stdout",
          "text": [
            "[1, 2.5, 'manju']\n"
          ]
        }
      ]
    },
    {
      "cell_type": "markdown",
      "source": [
        "adding items\n"
      ],
      "metadata": {
        "id": "udfKSwRNaSvX"
      }
    },
    {
      "cell_type": "code",
      "source": [
        "#append\n",
        "a.append(10)\n",
        "a"
      ],
      "metadata": {
        "colab": {
          "base_uri": "https://localhost:8080/"
        },
        "id": "8ZE1mbg7aRdN",
        "outputId": "b18a4f72-e2ce-4b50-abb4-b4a758ae57cf"
      },
      "execution_count": null,
      "outputs": [
        {
          "output_type": "execute_result",
          "data": {
            "text/plain": [
              "[1, 2, 3, 12, 5, 7, 8, 9, 10, 10, 10, 10, 10]"
            ]
          },
          "metadata": {},
          "execution_count": 14
        }
      ]
    },
    {
      "cell_type": "code",
      "source": [
        "#insert\n",
        "b.insert(6,'manju')\n",
        "b"
      ],
      "metadata": {
        "colab": {
          "base_uri": "https://localhost:8080/"
        },
        "id": "6oSjSJVxaym3",
        "outputId": "c2a10ea0-34d9-4bb3-a526-4f43d1def212"
      },
      "execution_count": null,
      "outputs": [
        {
          "output_type": "execute_result",
          "data": {
            "text/plain": [
              "[1, 2.5, 'manju', 'manju', 'manju', 'manju']"
            ]
          },
          "metadata": {},
          "execution_count": 16
        }
      ]
    },
    {
      "cell_type": "markdown",
      "source": [
        "Removing items\n"
      ],
      "metadata": {
        "id": "0z8LBvt5bSst"
      }
    },
    {
      "cell_type": "code",
      "source": [
        "#remove\n",
        "a.remove(10)\n",
        "a"
      ],
      "metadata": {
        "colab": {
          "base_uri": "https://localhost:8080/"
        },
        "id": "cTBf4_95bWcr",
        "outputId": "f7bd1ea9-0c60-4121-d0d1-605d12e6b2c4"
      },
      "execution_count": null,
      "outputs": [
        {
          "output_type": "execute_result",
          "data": {
            "text/plain": [
              "[1, 2, 3, 12, 5, 7, 8, 9, 10]"
            ]
          },
          "metadata": {},
          "execution_count": 20
        }
      ]
    },
    {
      "cell_type": "code",
      "source": [
        "#pop\n",
        "b.pop(2)\n",
        "b"
      ],
      "metadata": {
        "colab": {
          "base_uri": "https://localhost:8080/"
        },
        "id": "Hfa6EuEQb2xv",
        "outputId": "a9959edd-194e-4266-bc24-39f71751e42b"
      },
      "execution_count": null,
      "outputs": [
        {
          "output_type": "execute_result",
          "data": {
            "text/plain": [
              "[1, 2.5, 'manju', 'manju']"
            ]
          },
          "metadata": {},
          "execution_count": 22
        }
      ]
    },
    {
      "cell_type": "markdown",
      "source": [
        "Other operations"
      ],
      "metadata": {
        "id": "VYmgWsTeh85B"
      }
    },
    {
      "cell_type": "code",
      "source": [
        "#len\n",
        "len(a)"
      ],
      "metadata": {
        "colab": {
          "base_uri": "https://localhost:8080/"
        },
        "id": "LZC7oTHmiQXH",
        "outputId": "3b7e09d5-79eb-47f5-cc81-f218ed32abb6"
      },
      "execution_count": null,
      "outputs": [
        {
          "output_type": "execute_result",
          "data": {
            "text/plain": [
              "9"
            ]
          },
          "metadata": {},
          "execution_count": 33
        }
      ]
    },
    {
      "cell_type": "code",
      "source": [
        "a.sort()\n",
        "a.reverse()\n",
        "a"
      ],
      "metadata": {
        "colab": {
          "base_uri": "https://localhost:8080/"
        },
        "id": "WGAs3JYKjTGG",
        "outputId": "ba326af6-75de-4378-b274-bbe0f51cdeb4"
      },
      "execution_count": null,
      "outputs": [
        {
          "output_type": "execute_result",
          "data": {
            "text/plain": [
              "[77, 77, 66, 6, 5, 3, 3, 2, 1]"
            ]
          },
          "metadata": {},
          "execution_count": 35
        }
      ]
    },
    {
      "cell_type": "markdown",
      "source": [
        "Iterating through a list"
      ],
      "metadata": {
        "id": "1pLDx_2tjir4"
      }
    },
    {
      "cell_type": "code",
      "source": [
        "a = (1,3,5,76,56,5,9,4)\n",
        "for i in a:\n",
        "  print(i)"
      ],
      "metadata": {
        "colab": {
          "base_uri": "https://localhost:8080/"
        },
        "id": "xrNR89_Lnhwn",
        "outputId": "4960a565-41fb-4cc5-c2c8-3cbc6af86d2f"
      },
      "execution_count": null,
      "outputs": [
        {
          "output_type": "stream",
          "name": "stdout",
          "text": [
            "1\n",
            "3\n",
            "5\n",
            "76\n",
            "56\n",
            "5\n",
            "9\n",
            "4\n"
          ]
        }
      ]
    },
    {
      "cell_type": "markdown",
      "source": [
        "# Tuples"
      ],
      "metadata": {
        "id": "bOgUI7lsn8FX"
      }
    },
    {
      "cell_type": "code",
      "source": [
        "a = ( 1,2,3,4,'hello',5.5)\n",
        "print(a[0])\n",
        "print(a[-1])"
      ],
      "metadata": {
        "colab": {
          "base_uri": "https://localhost:8080/"
        },
        "id": "4grfcVHNn5kh",
        "outputId": "da40cdab-69e4-4874-d133-1ce7ed1bd671"
      },
      "execution_count": null,
      "outputs": [
        {
          "output_type": "stream",
          "name": "stdout",
          "text": [
            "1\n",
            "5.5\n"
          ]
        }
      ]
    },
    {
      "cell_type": "code",
      "source": [
        "#accessing items in a tuple\n",
        "print(a[3])\n"
      ],
      "metadata": {
        "colab": {
          "base_uri": "https://localhost:8080/"
        },
        "id": "JcmzjgjdpdpG",
        "outputId": "4ba37e24-6bcd-4eb1-a35f-aebaf57e75b5"
      },
      "execution_count": null,
      "outputs": [
        {
          "output_type": "stream",
          "name": "stdout",
          "text": [
            "4\n"
          ]
        }
      ]
    },
    {
      "cell_type": "markdown",
      "source": [
        "Dictionary"
      ],
      "metadata": {
        "id": "nNzmQMqPp1Zf"
      }
    },
    {
      "cell_type": "code",
      "source": [
        "\n",
        "student ={\n",
        "    \"name\": \"manju\",\n",
        "    \"age\": 18,\n",
        "    \"grade\": \"A\",\n",
        "    \"city\": \"new york\"\n",
        "}\n",
        "print(student)"
      ],
      "metadata": {
        "colab": {
          "base_uri": "https://localhost:8080/"
        },
        "id": "SAQ9cZWRp5Qp",
        "outputId": "a359a016-2819-473b-a7eb-62e7194423e5"
      },
      "execution_count": null,
      "outputs": [
        {
          "output_type": "stream",
          "name": "stdout",
          "text": [
            "{'name': 'manju', 'age': 18, 'grade': 'A', 'city': 'new york'}\n"
          ]
        }
      ]
    },
    {
      "cell_type": "markdown",
      "source": [
        "Accessing and modifying Items"
      ],
      "metadata": {
        "id": "eAJnYq-nqbJE"
      }
    },
    {
      "cell_type": "code",
      "source": [
        "#Accessing\n",
        "print(student[\"age\"])"
      ],
      "metadata": {
        "colab": {
          "base_uri": "https://localhost:8080/"
        },
        "id": "AAFOKaKBqlJA",
        "outputId": "c7cafa72-9405-4f8e-d644-6724559f295a"
      },
      "execution_count": null,
      "outputs": [
        {
          "output_type": "stream",
          "name": "stdout",
          "text": [
            "18\n"
          ]
        }
      ]
    },
    {
      "cell_type": "code",
      "source": [
        "#Modifying\n",
        "student[\"age\"] = 21\n",
        "print(student)"
      ],
      "metadata": {
        "colab": {
          "base_uri": "https://localhost:8080/"
        },
        "id": "fzKaDrYWq37D",
        "outputId": "27dab304-db50-47c7-865e-92ac85311560"
      },
      "execution_count": null,
      "outputs": [
        {
          "output_type": "stream",
          "name": "stdout",
          "text": [
            "{'name': 'manju', 'age': 21, 'grade': 'A', 'city': 'new york'}\n"
          ]
        }
      ]
    },
    {
      "cell_type": "code",
      "source": [
        "#adding\n",
        "student[\"gender\"] = \"male\"\n",
        "print(student)"
      ],
      "metadata": {
        "colab": {
          "base_uri": "https://localhost:8080/"
        },
        "id": "ZYES65d_r5Q5",
        "outputId": "41a28a94-496d-4625-d07a-2ee70cab7512"
      },
      "execution_count": null,
      "outputs": [
        {
          "output_type": "stream",
          "name": "stdout",
          "text": [
            "{'name': 'manju', 'age': 21, 'grade': 'A', 'city': 'new york', 'gender': 'male'}\n"
          ]
        }
      ]
    },
    {
      "cell_type": "code",
      "source": [
        "#removing\n",
        "del student[\"grade\"]\n",
        "print(student)\n"
      ],
      "metadata": {
        "colab": {
          "base_uri": "https://localhost:8080/"
        },
        "id": "k3NCdboSsK3o",
        "outputId": "d17101ee-2f3a-4109-95b2-010d4e61bcc0"
      },
      "execution_count": null,
      "outputs": [
        {
          "output_type": "stream",
          "name": "stdout",
          "text": [
            "{'name': 'manju', 'age': 21, 'city': 'new york', 'gender': 'male'}\n"
          ]
        }
      ]
    },
    {
      "cell_type": "markdown",
      "source": [
        "Iterating Thought a Dictionary"
      ],
      "metadata": {
        "id": "sF0lO0DrsZKA"
      }
    },
    {
      "cell_type": "code",
      "source": [
        "for key, value in student.items():\n",
        "  print(key,value)"
      ],
      "metadata": {
        "colab": {
          "base_uri": "https://localhost:8080/"
        },
        "id": "P0mubXHnsgc9",
        "outputId": "0031f0a0-de86-445f-a1df-df2d3373160a"
      },
      "execution_count": null,
      "outputs": [
        {
          "output_type": "stream",
          "name": "stdout",
          "text": [
            "name manju\n",
            "age 21\n",
            "city new york\n",
            "gender male\n"
          ]
        }
      ]
    },
    {
      "cell_type": "markdown",
      "source": [
        "# **Set**"
      ],
      "metadata": {
        "id": "34h7zsv_s2bT"
      }
    },
    {
      "cell_type": "markdown",
      "source": [
        "Creating a set"
      ],
      "metadata": {
        "id": "BCGRjuOzs80q"
      }
    },
    {
      "cell_type": "code",
      "source": [
        "#creating a set\n",
        "num = {1,2,3,4,5,6,7,8,9}\n",
        "print(num)"
      ],
      "metadata": {
        "colab": {
          "base_uri": "https://localhost:8080/"
        },
        "id": "V_9xpGkxs_Z3",
        "outputId": "eefd0552-45db-407b-c94c-810627a2ade2"
      },
      "execution_count": null,
      "outputs": [
        {
          "output_type": "stream",
          "name": "stdout",
          "text": [
            "{1, 2, 3, 4, 5, 6, 7, 8, 9}\n"
          ]
        }
      ]
    },
    {
      "cell_type": "markdown",
      "source": [
        "Set Operations"
      ],
      "metadata": {
        "id": "G7t6K-2VtVfR"
      }
    },
    {
      "cell_type": "code",
      "source": [
        "#Adding Items\n",
        "num.add(10)\n",
        "print(num)"
      ],
      "metadata": {
        "colab": {
          "base_uri": "https://localhost:8080/"
        },
        "id": "B8A_db3RtUoY",
        "outputId": "376616ac-7f27-485e-c53c-e850c04cd72f"
      },
      "execution_count": null,
      "outputs": [
        {
          "output_type": "stream",
          "name": "stdout",
          "text": [
            "{1, 2, 3, 4, 5, 6, 7, 8, 9, 10}\n"
          ]
        }
      ]
    },
    {
      "cell_type": "code",
      "source": [
        "#Removing Items\n",
        "num.remove(8)\n",
        "print(num)\n"
      ],
      "metadata": {
        "colab": {
          "base_uri": "https://localhost:8080/"
        },
        "id": "dNx8m1Y5tmvp",
        "outputId": "fc9eedde-da43-4af5-caa7-415e12b79534"
      },
      "execution_count": null,
      "outputs": [
        {
          "output_type": "stream",
          "name": "stdout",
          "text": [
            "{1, 2, 3, 4, 5, 6, 7, 9, 10}\n"
          ]
        }
      ]
    },
    {
      "cell_type": "code",
      "source": [
        "#set operations\n",
        "#union\n",
        "a = {1,2,3,4,5}\n",
        "b = {4,5,6,7,8,}\n",
        "a | b"
      ],
      "metadata": {
        "colab": {
          "base_uri": "https://localhost:8080/"
        },
        "id": "SEEIG4dwuE16",
        "outputId": "6f5d9d47-b109-4f25-aadb-d232c9934ecf"
      },
      "execution_count": null,
      "outputs": [
        {
          "output_type": "execute_result",
          "data": {
            "text/plain": [
              "{1, 2, 3, 4, 5, 6, 7, 8}"
            ]
          },
          "metadata": {},
          "execution_count": 68
        }
      ]
    },
    {
      "cell_type": "code",
      "source": [
        "#intersection\n",
        "a & b"
      ],
      "metadata": {
        "colab": {
          "base_uri": "https://localhost:8080/"
        },
        "id": "PBJcXDYxu1zP",
        "outputId": "5e0bce45-f4d5-4707-ebfd-2e781930d1f2"
      },
      "execution_count": null,
      "outputs": [
        {
          "output_type": "execute_result",
          "data": {
            "text/plain": [
              "{4, 5}"
            ]
          },
          "metadata": {},
          "execution_count": 69
        }
      ]
    },
    {
      "cell_type": "code",
      "source": [
        "#Difference\n",
        "a - b"
      ],
      "metadata": {
        "colab": {
          "base_uri": "https://localhost:8080/"
        },
        "id": "dIf57bXbvAMc",
        "outputId": "ef20faa6-8c18-43b8-ea1b-8cf4b5106df0"
      },
      "execution_count": null,
      "outputs": [
        {
          "output_type": "execute_result",
          "data": {
            "text/plain": [
              "{1, 2, 3}"
            ]
          },
          "metadata": {},
          "execution_count": 70
        }
      ]
    },
    {
      "cell_type": "markdown",
      "source": [
        "# **Hands on practice**"
      ],
      "metadata": {
        "id": "L2QJ0IzfvOPM"
      }
    },
    {
      "cell_type": "code",
      "source": [
        "#manipulating Lists\n",
        "fruits = ['apple','banana','orange','cherry']\n",
        "fruits.append('mango')\n",
        "fruits.remove('banana')\n",
        "print(fruits)"
      ],
      "metadata": {
        "colab": {
          "base_uri": "https://localhost:8080/"
        },
        "id": "ENbqvm53vLxs",
        "outputId": "096c8cb3-18e1-4df1-d2e9-74431e24bf0d"
      },
      "execution_count": null,
      "outputs": [
        {
          "output_type": "stream",
          "name": "stdout",
          "text": [
            "['apple', 'orange', 'cherry', 'mango']\n"
          ]
        }
      ]
    },
    {
      "cell_type": "code",
      "source": [
        "#Creating a Dictionary\n",
        "book = {\n",
        "    \"title\": \"Python Basics\",\n",
        "    \"author\": \"John Doe\",\n",
        "    \"year\": 2023\n",
        "\n",
        "}\n",
        "print(book[\"title\"])\n",
        "book[\"year\"]=2024\n",
        "print(book)\n"
      ],
      "metadata": {
        "colab": {
          "base_uri": "https://localhost:8080/"
        },
        "id": "eyclucWbwQf-",
        "outputId": "2f89ab5e-d374-48c1-d254-4b8200c43239"
      },
      "execution_count": null,
      "outputs": [
        {
          "output_type": "stream",
          "name": "stdout",
          "text": [
            "Python Basics\n",
            "{'title': 'Python Basics', 'author': 'John Doe', 'year': 2024}\n"
          ]
        }
      ]
    },
    {
      "cell_type": "code",
      "source": [
        "#Working with Sets\n",
        "set1 = {1,2,3,4}\n",
        "set2 = {3,4,5,6}\n",
        "print(\"Union:\",set1 | set2)\n",
        "print(\"Intersection:\",set1 & set2)\n",
        "print(\"Difference:\",set1 - set2)"
      ],
      "metadata": {
        "colab": {
          "base_uri": "https://localhost:8080/"
        },
        "id": "A9jChJXjxHxQ",
        "outputId": "92a3dc99-e641-4ae0-d8fd-0c917a000cc2"
      },
      "execution_count": null,
      "outputs": [
        {
          "output_type": "stream",
          "name": "stdout",
          "text": [
            "Union: {1, 2, 3, 4, 5, 6}\n",
            "Intersection: {3, 4}\n",
            "Difference: {1, 2}\n"
          ]
        }
      ]
    },
    {
      "cell_type": "markdown",
      "source": [
        "# problems **solving**"
      ],
      "metadata": {
        "id": "5pXNhUz7x4DN"
      }
    },
    {
      "cell_type": "code",
      "source": [
        "#Merage Two Lists\n",
        "list1 = [1,2,3]\n",
        "list2 = [4,5,6]\n",
        "merged_list = list1 + list2\n",
        "print(\"Merged List:\",merged_list)"
      ],
      "metadata": {
        "colab": {
          "base_uri": "https://localhost:8080/"
        },
        "id": "G9pWasfQx7OZ",
        "outputId": "5982832f-da57-4b52-8971-ceb0b26a90f3"
      },
      "execution_count": null,
      "outputs": [
        {
          "output_type": "stream",
          "name": "stdout",
          "text": [
            "Merged List: [1, 2, 3, 4, 5, 6]\n"
          ]
        }
      ]
    },
    {
      "cell_type": "code",
      "source": [
        "#Dictionary Operations\n",
        "student = {\"name\": \"john\",\"age\":21, \"marks\":85}\n",
        "print(\"Name:\",student[\"name\"])\n",
        "student[\"marks\"] = 90\n",
        "print(\"Updated Marks:\",student[\"marks\"])\n"
      ],
      "metadata": {
        "colab": {
          "base_uri": "https://localhost:8080/"
        },
        "id": "pEa9hAMGy27C",
        "outputId": "9ebd0f30-97ab-49c7-ce07-ffab291ddac3"
      },
      "execution_count": null,
      "outputs": [
        {
          "output_type": "stream",
          "name": "stdout",
          "text": [
            "Name: john\n",
            "Updated Marks: 90\n"
          ]
        }
      ]
    },
    {
      "cell_type": "code",
      "source": [
        "#find the maximum and minimum in a list\n",
        "num = [10,20,30,40,50,]\n",
        "print(\"Maximum:\",max(num))\n",
        "print(\"Minimum:\",min(num))"
      ],
      "metadata": {
        "colab": {
          "base_uri": "https://localhost:8080/"
        },
        "id": "S8MRqKed0AAD",
        "outputId": "df507876-f5f5-41ac-9744-fae723dcca03"
      },
      "execution_count": null,
      "outputs": [
        {
          "output_type": "stream",
          "name": "stdout",
          "text": [
            "Maximum: 50\n",
            "Minimum: 10\n"
          ]
        }
      ]
    },
    {
      "cell_type": "code",
      "source": [
        "#Count Frequency of Elements\n",
        "\n",
        "numbers = [1,2,2,3,3,3,4,4,4,4]\n",
        "frequency = {}\n"
      ],
      "metadata": {
        "id": "-i_nTdxx2mGv"
      },
      "execution_count": null,
      "outputs": []
    },
    {
      "cell_type": "markdown",
      "source": [
        "find wheather it is **palindrome**"
      ],
      "metadata": {
        "id": "Gq-7b51w34eC"
      }
    },
    {
      "cell_type": "code",
      "source": [
        "number = int(input(\"Enter a number:\"))\n",
        "reverse_number = 0\n",
        "temp = number\n",
        "\n",
        "while temp > 0:\n",
        "  digit = temp % 10\n",
        "  reverse_number = reverse_number * 10 + digit\n",
        "  temp //= 10\n",
        "\n",
        "if number == reverse_number:\n",
        "  print(f\"{number} is a palindrome\")\n",
        "else:\n",
        "  print(f\"{number} is not a palindrome\")"
      ],
      "metadata": {
        "colab": {
          "base_uri": "https://localhost:8080/"
        },
        "id": "bsB3IjOo4E3x",
        "outputId": "085326af-b169-4579-d427-5eac507b72b5"
      },
      "execution_count": null,
      "outputs": [
        {
          "output_type": "stream",
          "name": "stdout",
          "text": [
            "Enter a number:212\n",
            "212 is a polindrome\n"
          ]
        }
      ]
    },
    {
      "cell_type": "code",
      "source": [
        "#palindrome\n",
        "number = input(\"Enter a number: \")\n",
        "if number == number[::-1]:\n",
        "  print(f\"{number} is a  palindrone\")\n",
        "else:\n",
        "  print(f\"{number} is not a palindrome\")"
      ],
      "metadata": {
        "colab": {
          "base_uri": "https://localhost:8080/"
        },
        "id": "6rtnPniz5z9g",
        "outputId": "8edf0a56-c186-45b8-f18d-5a907d71d904"
      },
      "execution_count": null,
      "outputs": [
        {
          "output_type": "stream",
          "name": "stdout",
          "text": [
            "Enter a number: nayan\n",
            "nayan is a  polindrone\n"
          ]
        }
      ]
    },
    {
      "cell_type": "code",
      "source": [
        "class Solution(object):\n",
        "    def isPalindrome(self, x):\n",
        "        \"\"\"\n",
        "        :type x: int\n",
        "        :rtype: bool\n",
        "        \"\"\"\n",
        "        if x < 0 or (x % 10 == 0 and x != 0):\n",
        "            return False\n",
        "\n",
        "        reversed_half = 0\n",
        "        while x > reversed_half:\n",
        "\n",
        "            reversed_half = reversed_half * 10 + x % 10\n",
        "            x //= 10\n",
        "\n",
        "\n",
        "        return x == reversed_half or x == reversed_half // 10\n",
        "\n",
        "\n",
        "solution = Solution()\n",
        "print(solution.isPalindrome(121))\n",
        "print(solution.isPalindrome(-121))\n",
        "print(solution.isPalindrome(10))\n",
        "print(solution.isPalindrome(0))"
      ],
      "metadata": {
        "colab": {
          "base_uri": "https://localhost:8080/"
        },
        "id": "7NFDP58OfCSW",
        "outputId": "b5ccd41b-c180-47bf-c01a-f0818e57473e"
      },
      "execution_count": 10,
      "outputs": [
        {
          "output_type": "stream",
          "name": "stdout",
          "text": [
            "True\n",
            "False\n",
            "False\n",
            "True\n"
          ]
        }
      ]
    }
  ]
}