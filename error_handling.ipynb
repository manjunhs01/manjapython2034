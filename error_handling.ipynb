{
  "nbformat": 4,
  "nbformat_minor": 0,
  "metadata": {
    "colab": {
      "provenance": []
    },
    "kernelspec": {
      "name": "python3",
      "display_name": "Python 3"
    },
    "language_info": {
      "name": "python"
    }
  },
  "cells": [
    {
      "cell_type": "code",
      "execution_count": null,
      "metadata": {
        "id": "0KDIfScoCyFk"
      },
      "outputs": [],
      "source": []
    },
    {
      "cell_type": "markdown",
      "source": [
        "# error **handling**"
      ],
      "metadata": {
        "id": "vf4yX1zI8b2E"
      }
    },
    {
      "cell_type": "code",
      "source": [
        "#Try Except Block\n",
        "try:\n",
        "  num = int(input(\"Enter a number:\"))\n",
        "  print(10/num)\n",
        "except ZeroDivisionError:\n",
        "  print(\"You cannot divide by zero.\")\n",
        "except ValueError:\n",
        "  print(\"Invalid input. Please enter a valid number.\")\n"
      ],
      "metadata": {
        "colab": {
          "base_uri": "https://localhost:8080/"
        },
        "id": "NeOdHKXd-EOe",
        "outputId": "9f6cb297-522d-4771-cf92-9270e086dd6a"
      },
      "execution_count": null,
      "outputs": [
        {
          "output_type": "stream",
          "name": "stdout",
          "text": [
            "Enter a number:0\n",
            "You cannot divide by zero.\n"
          ]
        }
      ]
    },
    {
      "cell_type": "code",
      "source": [
        "#Finally Block\n",
        "try:\n",
        "  file = open(\"example.text\",\"r\")\n",
        "except FileNotFoundError:\n",
        "  print(\"File not found.\")\n",
        "finally:\n",
        "  print(\"Execution complete.\")\n",
        "\n"
      ],
      "metadata": {
        "colab": {
          "base_uri": "https://localhost:8080/"
        },
        "id": "h4PYvzbV_AkN",
        "outputId": "ff29376a-42d2-48ce-9723-1f4199dfc95c"
      },
      "execution_count": null,
      "outputs": [
        {
          "output_type": "stream",
          "name": "stdout",
          "text": [
            "File not found.\n",
            "Execution complete.\n"
          ]
        }
      ]
    },
    {
      "cell_type": "code",
      "source": [
        "#Raising Exceptions\n",
        "def check_age(age):\n",
        "  if age < 18:\n",
        "    raise ValueError(\"Age must be 18 or older.\")\n",
        "    return True\n",
        "    try:\n",
        "      check_age(16)\n",
        "    except ValueError as e:\n",
        "      print(e)"
      ],
      "metadata": {
        "id": "jgKAprJH_7Dn"
      },
      "execution_count": null,
      "outputs": []
    }
  ]
}