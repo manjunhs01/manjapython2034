{
  "nbformat": 4,
  "nbformat_minor": 0,
  "metadata": {
    "colab": {
      "provenance": []
    },
    "kernelspec": {
      "name": "python3",
      "display_name": "Python 3"
    },
    "language_info": {
      "name": "python"
    }
  },
  "cells": [
    {
      "cell_type": "code",
      "execution_count": null,
      "metadata": {
        "id": "bQopt5ZaoQZc"
      },
      "outputs": [],
      "source": [
        "marks = int(input(\"enter your marks\"))\n",
        "if marks >= 90:\n",
        "  print(\" grade is A\")\n",
        "elif marks >= 75:\n",
        "  print(\" grade is B\")\n",
        "elif marks >= 50:\n",
        "    print(\" grade is C\")\n",
        "else:\n",
        "      print(\"grade: f\")"
      ]
    }
  ]
}