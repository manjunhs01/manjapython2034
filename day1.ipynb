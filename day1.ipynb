{
  "nbformat": 4,
  "nbformat_minor": 0,
  "metadata": {
    "colab": {
      "provenance": []
    },
    "kernelspec": {
      "name": "python3",
      "display_name": "Python 3"
    },
    "language_info": {
      "name": "python"
    }
  },
  "cells": [
    {
      "cell_type": "code",
      "execution_count": null,
      "metadata": {
        "colab": {
          "base_uri": "https://localhost:8080/"
        },
        "collapsed": true,
        "id": "lPbOJdjIOAZ7",
        "outputId": "6d5addd7-f572-4f49-de93-a1f8f024a71a"
      },
      "outputs": [
        {
          "output_type": "stream",
          "name": "stdout",
          "text": [
            "hello, world\n",
            "MANJUNATH\n",
            "cse\n"
          ]
        }
      ],
      "source": [
        "print(\"hello, world\")\n",
        "print(\"MANJUNATH\")\n",
        "print(\"cse\")\n",
        "\n"
      ]
    },
    {
      "cell_type": "code",
      "source": [
        "print(\"i am student\")"
      ],
      "metadata": {
        "colab": {
          "base_uri": "https://localhost:8080/"
        },
        "id": "3oN-_djHW_Xp",
        "outputId": "debe45b2-8eaa-4d41-c84e-310fb97bade8"
      },
      "execution_count": null,
      "outputs": [
        {
          "output_type": "stream",
          "name": "stdout",
          "text": [
            "i am student\n"
          ]
        }
      ]
    },
    {
      "cell_type": "code",
      "source": [
        "x = 10 # Integer\n",
        "y = 3.14 #Float\n",
        "name = \"Manjunath\" #String\n",
        "is_student = True #Boolean\n"
      ],
      "metadata": {
        "id": "qLjzvno-d5tI"
      },
      "execution_count": null,
      "outputs": []
    },
    {
      "cell_type": "code",
      "source": [
        "a = 10\n",
        "print(a)\n"
      ],
      "metadata": {
        "colab": {
          "base_uri": "https://localhost:8080/"
        },
        "id": "OXhldTfI5Y3R",
        "outputId": "685fa41a-b5bb-42e3-9d12-916f6c863524"
      },
      "execution_count": null,
      "outputs": [
        {
          "output_type": "stream",
          "name": "stdout",
          "text": [
            "10\n"
          ]
        }
      ]
    },
    {
      "cell_type": "code",
      "source": [
        "a = 10\n",
        "print(a)\n",
        "b = 3.14\n",
        "print(b)\n",
        "name = \"Manjunath\"\n",
        "print(name)\n",
        "print(name + \"is a teacher\"+ name)\n",
        "\n"
      ],
      "metadata": {
        "colab": {
          "base_uri": "https://localhost:8080/"
        },
        "id": "cDeTFe7S5hE5",
        "outputId": "a15cdd8a-7ae8-436e-f47b-95a50210638f"
      },
      "execution_count": null,
      "outputs": [
        {
          "output_type": "stream",
          "name": "stdout",
          "text": [
            "10\n",
            "3.14\n",
            "Manjunath\n",
            "Manjunathis a teacherManjunath\n"
          ]
        }
      ]
    },
    {
      "cell_type": "code",
      "source": [
        "a = 10\n",
        "b =3.14\n",
        "name = 'rajesh'\n",
        "print(a,b,name + \"all are happy\" + \"all are not happy\")"
      ],
      "metadata": {
        "colab": {
          "base_uri": "https://localhost:8080/"
        },
        "id": "5L5v909c6L3C",
        "outputId": "6bbfba60-efd6-4874-ea94-d175a3898f2d"
      },
      "execution_count": null,
      "outputs": [
        {
          "output_type": "stream",
          "name": "stdout",
          "text": [
            "10 3.14 rajeshall are happyall are not happy\n"
          ]
        }
      ]
    },
    {
      "cell_type": "code",
      "source": [
        "print(\"hello,python\")"
      ],
      "metadata": {
        "colab": {
          "base_uri": "https://localhost:8080/"
        },
        "id": "F9yFaBlf68OK",
        "outputId": "7b92cb14-65ff-444c-c726-a04d742d311d"
      },
      "execution_count": null,
      "outputs": [
        {
          "output_type": "stream",
          "name": "stdout",
          "text": [
            "hello,python\n"
          ]
        }
      ]
    },
    {
      "cell_type": "code",
      "source": [
        "name = input(\"enter student name: \")\n",
        "print(name)\n"
      ],
      "metadata": {
        "colab": {
          "base_uri": "https://localhost:8080/"
        },
        "id": "xUweTlNS7PnR",
        "outputId": "7cd7e072-f274-4037-90d1-53d27c0d5863"
      },
      "execution_count": null,
      "outputs": [
        {
          "output_type": "stream",
          "name": "stdout",
          "text": [
            "enter student name: rajesh\n",
            "rajesh\n"
          ]
        }
      ]
    },
    {
      "cell_type": "code",
      "source": [
        "name = input(\"enter student name: \")\n",
        "print(\"hello,\"+name+ \"!\")"
      ],
      "metadata": {
        "colab": {
          "base_uri": "https://localhost:8080/"
        },
        "id": "ouQP3ddU7vVJ",
        "outputId": "a2a7d224-009b-4596-94ec-75d7f63bc7d3"
      },
      "execution_count": null,
      "outputs": [
        {
          "output_type": "stream",
          "name": "stdout",
          "text": [
            "enter student name: manju\n",
            "hello,manju!\n"
          ]
        }
      ]
    },
    {
      "cell_type": "code",
      "source": [
        "a = int(input(\"enter a number\"))\n",
        "b = int(input(\"enter a number\"))\n",
        "print(a+b)\n"
      ],
      "metadata": {
        "colab": {
          "base_uri": "https://localhost:8080/"
        },
        "id": "cXyxpTHk8xcx",
        "outputId": "84ab049d-16aa-4e7d-ad67-97239f71197f"
      },
      "execution_count": null,
      "outputs": [
        {
          "output_type": "stream",
          "name": "stdout",
          "text": [
            "enter a number2\n",
            "enter a number4\n",
            "6\n"
          ]
        }
      ]
    },
    {
      "cell_type": "code",
      "source": [
        "a = int(input(\"enter a number\"))\n",
        "b = int(input(\"enter a number\"))\n",
        "print(a-b)\n"
      ],
      "metadata": {
        "colab": {
          "base_uri": "https://localhost:8080/"
        },
        "id": "hncWfWyB9IOJ",
        "outputId": "6e56e0dd-c6ef-46af-f02a-cfdc170b25fb"
      },
      "execution_count": null,
      "outputs": [
        {
          "output_type": "stream",
          "name": "stdout",
          "text": [
            "enter a number8\n",
            "enter a number9\n",
            "-1\n"
          ]
        }
      ]
    },
    {
      "cell_type": "code",
      "source": [
        "a = int(input(\"enter a number\"))\n",
        "b = int(input(\"enter a number\"))\n",
        "print(a+b)\n",
        "print(a-b)\n",
        "print(a*b)\n",
        "print(a/b)\n"
      ],
      "metadata": {
        "colab": {
          "base_uri": "https://localhost:8080/"
        },
        "id": "jI30MnYI9kmp",
        "outputId": "dc449c81-ee69-4589-9577-efcf919468b7"
      },
      "execution_count": null,
      "outputs": [
        {
          "output_type": "stream",
          "name": "stdout",
          "text": [
            "enter a number4\n",
            "enter a number6\n",
            "10\n",
            "-2\n",
            "24\n",
            "0.6666666666666666\n"
          ]
        }
      ]
    },
    {
      "cell_type": "code",
      "source": [
        "radius = float(input(\"enter radius\"))\n",
        "area = 3.14*radius*radius\n",
        "print(area)"
      ],
      "metadata": {
        "colab": {
          "base_uri": "https://localhost:8080/"
        },
        "id": "vg8OzY9Q-WwR",
        "outputId": "0b63dedd-4fa4-4955-96dd-23e69e87229f"
      },
      "execution_count": null,
      "outputs": [
        {
          "output_type": "stream",
          "name": "stdout",
          "text": [
            "enter radius666666666666666\n",
            "1.3955555555555528e+30\n"
          ]
        }
      ]
    },
    {
      "cell_type": "code",
      "source": [
        "radius = float(input(\"enter radius\"))\n",
        "pi = 3.14\n",
        "area = pi * radius **2\n",
        "print(\"area of circle is :\", area)"
      ],
      "metadata": {
        "colab": {
          "base_uri": "https://localhost:8080/"
        },
        "id": "nHV7w8OJ-1Mp",
        "outputId": "f5c36048-ae0f-4ea2-9c9b-17b4dba21a21"
      },
      "execution_count": null,
      "outputs": [
        {
          "output_type": "stream",
          "name": "stdout",
          "text": [
            "enter radius30\n",
            "area of circle is : 2826.0\n"
          ]
        }
      ]
    },
    {
      "cell_type": "code",
      "source": [
        "a = int(input(\"enter a number: \"))\n",
        "b = int(input(\"enter a number: \"))\n",
        "print(a +b)\n",
        "print(a -b)\n",
        "print(a *b)\n",
        "print(a /b)\n",
        "print(a %b)\n",
        "print(a**b)\n"
      ],
      "metadata": {
        "colab": {
          "base_uri": "https://localhost:8080/"
        },
        "id": "IXZYtJgSAI8I",
        "outputId": "847696e1-5345-4506-b014-3d7d23afa6a3"
      },
      "execution_count": null,
      "outputs": [
        {
          "output_type": "stream",
          "name": "stdout",
          "text": [
            "enter a number: 9\n",
            "enter a number: 8\n",
            "17\n",
            "1\n",
            "72\n",
            "1.125\n",
            "1\n",
            "43046721\n"
          ]
        }
      ]
    },
    {
      "cell_type": "code",
      "source": [
        "celsius = float(input(\"enter temperature in celsius: \"))\n",
        "fahrenheit = (celsius * 9/5) + 32\n",
        "print(\"temperature in fahrenheit:\", fahrenheit)\n"
      ],
      "metadata": {
        "colab": {
          "base_uri": "https://localhost:8080/"
        },
        "id": "z8J5uoh7Bt6B",
        "outputId": "7f11b1ab-8989-4c27-ad67-cf4f70da2756"
      },
      "execution_count": null,
      "outputs": [
        {
          "output_type": "stream",
          "name": "stdout",
          "text": [
            "enter temperature in celsius: 85\n",
            "temperature in fahrenheit: 185.0\n"
          ]
        }
      ]
    },
    {
      "cell_type": "code",
      "source": [],
      "metadata": {
        "id": "Fx6U7pRDCg6w"
      },
      "execution_count": null,
      "outputs": []
    }
  ]
}