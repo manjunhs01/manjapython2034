{
  "nbformat": 4,
  "nbformat_minor": 0,
  "metadata": {
    "colab": {
      "provenance": []
    },
    "kernelspec": {
      "name": "python3",
      "display_name": "Python 3"
    },
    "language_info": {
      "name": "python"
    }
  },
  "cells": [
    {
      "cell_type": "code",
      "source": [
        "#opening a File\n",
        "file = open(\"/content/manjunath.txt\", \"r\")"
      ],
      "metadata": {
        "id": "Tu0W2lVHwwbT"
      },
      "execution_count": null,
      "outputs": []
    },
    {
      "cell_type": "code",
      "source": [
        "file = open(\"/content/manjunath.txt\", \"w\")\n",
        "print(file.write(\"this a command\"))\n",
        "file.close()"
      ],
      "metadata": {
        "colab": {
          "base_uri": "https://localhost:8080/"
        },
        "id": "ts5RVVhQxEcE",
        "outputId": "24ce50ee-d4d4-435d-a4fe-9c7e16e5f3ca"
      },
      "execution_count": null,
      "outputs": [
        {
          "output_type": "stream",
          "name": "stdout",
          "text": [
            "14\n"
          ]
        }
      ]
    },
    {
      "cell_type": "code",
      "source": [
        "file = open(\"/content/manjunath.txt\", \"r\")\n",
        "conent = file.read()\n",
        "print(conent)\n",
        "file.close()"
      ],
      "metadata": {
        "colab": {
          "base_uri": "https://localhost:8080/"
        },
        "id": "lnhylRlAxiC7",
        "outputId": "80986d23-3747-4f7d-fbe8-e482cf41698f"
      },
      "execution_count": null,
      "outputs": [
        {
          "output_type": "stream",
          "name": "stdout",
          "text": [
            "this a command\n"
          ]
        }
      ]
    },
    {
      "cell_type": "code",
      "source": [
        "#Writing to a file\n",
        "file = open(\"/content/manjunath.txt\", \"w\")\n",
        "print(file.write(\"jhfhf ihdfh jhkdfh hjskd\"))\n",
        "file.close()"
      ],
      "metadata": {
        "colab": {
          "base_uri": "https://localhost:8080/"
        },
        "id": "EWqDkt4syZIM",
        "outputId": "e3a52a7c-b560-4b72-b37e-5b1ba7940427"
      },
      "execution_count": null,
      "outputs": [
        {
          "output_type": "stream",
          "name": "stdout",
          "text": [
            "24\n"
          ]
        }
      ]
    },
    {
      "cell_type": "code",
      "source": [
        "#Appending to a File\n",
        "file = open(\"/content/manjunath.txt\", \"a\")\n",
        "print(file.write(\"ram is a good programmer.\\n\"))\n",
        "file.close()"
      ],
      "metadata": {
        "colab": {
          "base_uri": "https://localhost:8080/"
        },
        "id": "dtue797gy5nN",
        "outputId": "2d2f5dd7-4e9e-4b41-97bd-33f8f6025100"
      },
      "execution_count": null,
      "outputs": [
        {
          "output_type": "stream",
          "name": "stdout",
          "text": [
            "26\n"
          ]
        }
      ]
    },
    {
      "cell_type": "code",
      "source": [
        "#using with statement\n",
        "with open(\"/content/manjunath.txt\", \"r\") as file:\n",
        "  content = file.read()\n",
        "  print(content)"
      ],
      "metadata": {
        "colab": {
          "base_uri": "https://localhost:8080/"
        },
        "id": "493ArdRQzhh8",
        "outputId": "78cb90cc-df4e-4a15-b6a2-925beb3571da"
      },
      "execution_count": null,
      "outputs": [
        {
          "output_type": "stream",
          "name": "stdout",
          "text": [
            "jhfhf ihdfh jhkdfh hjskdram is a good programmer.\n",
            "\n"
          ]
        }
      ]
    },
    {
      "cell_type": "code",
      "source": [
        "#file Handling Mods\n",
        "with open(\"/content/download.jpg\", \"rb\") as file:\n",
        "  data = file.read()\n"
      ],
      "metadata": {
        "id": "r1jvJcHLz07t"
      },
      "execution_count": null,
      "outputs": []
    }
  ]
}